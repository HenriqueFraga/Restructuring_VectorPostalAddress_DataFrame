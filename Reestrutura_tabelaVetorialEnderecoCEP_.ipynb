{
 "cells": [
  {
   "cell_type": "code",
   "execution_count": null,
   "metadata": {},
   "outputs": [],
   "source": [
    "import pandas as pd\n",
    "import numpy as np"
   ]
  },
  {
   "cell_type": "code",
   "execution_count": null,
   "metadata": {
    "scrolled": true
   },
   "outputs": [],
   "source": [
    "# função pra se certificar de que uma coluna (indicada a seguir) terá campo tipo float.\n",
    "# Os números das casas são na realidade inteiros, mas aqui optou-se por trabalhar com tipo float porque esse tipo de campo\n",
    "# comporta valores nulos. Usa-se valores nulos aqui porque não existe numeração 0 em ruas - o tipo integer obriga a usar 0\n",
    "# ao invés de nulo - inviabilizando a busca pelo menor número não sendo 0.\n",
    "\n",
    "def conv(val):\n",
    "    if not val:\n",
    "        return None \n",
    "    try:\n",
    "        return np.float64(val)\n",
    "    except:        \n",
    "        return np.float64()\n",
    "\n",
    "# lê arquivo .csv, separado por ';' e já seleciona colunas que serão usadas (deixando de fora colunas inúteis para esse exercício).\n",
    "# Chama a função acima para converter o tipo de campo das colunas que serão tipo float.\n",
    "    \n",
    "StreetMapCSV = r'D:\\Henrique\\VectorStreets_BR.csv'\n",
    "df = pd.read_csv(StreetMapCSV, sep = ';', usecols=['StreetName',\n",
    "       'LEFT_START_ADDRESS', 'LEFT_END_ADDRESS', 'RIGHT_START_ADDRESS',\n",
    "       'RIGHT_END_ADDRESS', 'LEFT_POSTAL', 'RIGHT_POSTAL', 'REGION', 'PROVINCE', 'CITY'], \n",
    "                 converters={'LEFT_START_ADDRESS':conv, 'LEFT_END_ADDRESS':conv, 'RIGHT_START_ADDRESS':conv,\n",
    "       'RIGHT_END_ADDRESS':conv})\n",
    "df.head(10)"
   ]
  },
  {
   "cell_type": "code",
   "execution_count": null,
   "metadata": {
    "scrolled": true
   },
   "outputs": [],
   "source": [
    "# Imprime os nomes das colunas para facilitar renomeação dos campos.\n",
    "\n",
    "print(df.columns)"
   ]
  },
  {
   "cell_type": "code",
   "execution_count": null,
   "metadata": {
    "scrolled": false
   },
   "outputs": [],
   "source": [
    "# Informações das colunas para conferência dos tipos de campo.\n",
    "\n",
    "df.info()"
   ]
  },
  {
   "cell_type": "code",
   "execution_count": null,
   "metadata": {
    "scrolled": true
   },
   "outputs": [],
   "source": [
    "# renomeia colunas e imprime. \"inplace-True\" para que o 'df' original receba o comando \"rename\".\n",
    "\n",
    "df.rename(columns={'StreetName': 'Logradouro', 'LEFT_START_ADDRESS': 'Num_Inicio_ESQ', 'LEFT_END_ADDRESS': 'Num_Final_ESQ',\n",
    "       'RIGHT_START_ADDRESS': 'Num_Inicio_DIR', 'RIGHT_END_ADDRESS': 'Num_Final_DIR', 'LEFT_POSTAL': 'CEP_ESQ',\n",
    "       'RIGHT_POSTAL': 'CEP_DIR', 'REGION': 'Regiao_BR', 'PROVINCE': 'Estado',\n",
    "       'CITY': 'Cidade'}, inplace=True)\n",
    "print(df.columns)"
   ]
  },
  {
   "cell_type": "code",
   "execution_count": null,
   "metadata": {
    "scrolled": false
   },
   "outputs": [],
   "source": [
    "# separação do DataFrame original em dois para reestruturação da planilha.\n",
    "# Aqui cria-se o DF para os endereços da esquerda do vetor. Usa-se o método \"drop\" para\n",
    "# apagar os campos \"da direita\". \"axis=1\" para que esse comando aconteça nas colunas.\n",
    "\n",
    "df_left = df.drop(['Num_Inicio_DIR', 'Num_Final_DIR', 'CEP_DIR'], axis=1)\n",
    "df_left.head()"
   ]
  },
  {
   "cell_type": "code",
   "execution_count": null,
   "metadata": {
    "scrolled": true
   },
   "outputs": [],
   "source": [
    "# Criação do DF para os endereços à direita usando-se \"drop\".\n",
    "\n",
    "df_right = df.drop(['Num_Inicio_ESQ', 'Num_Final_ESQ', 'CEP_ESQ'], axis=1)\n",
    "df_right.head()"
   ]
  },
  {
   "cell_type": "code",
   "execution_count": null,
   "metadata": {
    "scrolled": true
   },
   "outputs": [],
   "source": [
    "# cria variáveis para renomaear novamente as colunas dos dois novos DFs para deixá-las iguais preparando para a concatenação.\n",
    "# Foi necessário manter a diferença dos nomes das colunas durante etapas anteriores para ser possível separar os novos DFs.\n",
    "# Concatenação entre os dois novos DFs.\n",
    "\n",
    "colunas_left_rename = {'Num_Inicio_ESQ': 'Num_Inicio', 'Num_Final_ESQ': 'Num_Final',\n",
    "       'CEP_ESQ': 'CEP'}\n",
    "colunas_right_rename = {'Num_Inicio_DIR': 'Num_Inicio', 'Num_Final_DIR': 'Num_Final',\n",
    "       'CEP_DIR': 'CEP'}\n",
    "df_total = pd.concat([df_left.rename(columns=colunas_left_rename), df_right.rename(columns=colunas_right_rename)])\n",
    "df_total.info()"
   ]
  },
  {
   "cell_type": "code",
   "execution_count": null,
   "metadata": {},
   "outputs": [],
   "source": [
    "# conferência da estrutura do novo DF.\n",
    "\n",
    "df_total.head()"
   ]
  },
  {
   "cell_type": "code",
   "execution_count": null,
   "metadata": {},
   "outputs": [],
   "source": [
    "# Processo de limpeza (descarte) das linhas que tem valores nulos ('NaN').\n",
    "# Essa função não será executada apenas nas colunas numéricas para que possa haver linhas com CEP, logradouro e cidade,\n",
    "# mesmo sem numeração de rua.\n",
    "\n",
    "df_total_clean = df_total.dropna(subset=['Logradouro', 'CEP'])\n",
    "df_total_clean.head(20)"
   ]
  },
  {
   "cell_type": "code",
   "execution_count": null,
   "metadata": {
    "scrolled": true
   },
   "outputs": [],
   "source": [
    "# conferindo a eficácia da limpeza das colunas 'CEP' e 'logradouro', através de função de soma dos valores nulos por coluna.\n",
    "\n",
    "df_total_clean.isnull().sum()"
   ]
  },
  {
   "cell_type": "code",
   "execution_count": null,
   "metadata": {},
   "outputs": [],
   "source": [
    "df_total_clean.info()"
   ]
  },
  {
   "cell_type": "code",
   "execution_count": null,
   "metadata": {},
   "outputs": [],
   "source": [
    "# Função agrupar para realizar a seleção dos números maiores e menores de cada uma das colunas numéricas.\n",
    "# Criação de novo dataframe com as colunas CEP e logradouro agrupadas com os valores mínimo e máximo da numeração da rua\n",
    "# inicial e final, mais as respectivas colunas 'Regiao_BR', 'Estado' e 'Cidade'.\n",
    "# função reset do índice do novo dataframe.\n",
    "\n",
    "df_groupby = df_total_clean.groupby(['CEP', 'Logradouro'])\n",
    "\n",
    "min_NumIni = df_groupby['Num_Inicio'].min()\n",
    "max_NumIni = df_groupby['Num_Inicio'].max()\n",
    "min_NumFin = df_groupby['Num_Final'].min()\n",
    "max_NumFin = df_groupby['Num_Final'].max()\n",
    "Regiao_BR = df_groupby['Regiao_BR'].first()\n",
    "Estado = df_groupby['Estado'].first()\n",
    "Cidade = df_groupby['Cidade'].first()\n",
    "\n",
    "CEP_Log_Nums = pd.DataFrame({'min_NumIni': min_NumIni, 'max_NumIni': max_NumIni, 'min_NumFin': min_NumFin, \n",
    "                             'max_NumFin': max_NumFin, 'Regiao_BR': Regiao_BR, 'Estado': Estado, 'Cidade': Cidade})\n",
    "\n",
    "print(CEP_Log_Nums.reset_index())"
   ]
  },
  {
   "cell_type": "code",
   "execution_count": null,
   "metadata": {},
   "outputs": [],
   "source": [
    "# gera novas colunas no dataframe.\n",
    "\n",
    "CEP_Log_Nums['Menor_Num_Lograd'] = 0\n",
    "CEP_Log_Nums['Maior_Num_Lograd'] = 0"
   ]
  },
  {
   "cell_type": "code",
   "execution_count": null,
   "metadata": {},
   "outputs": [],
   "source": [
    "CEP_Log_Nums.info()"
   ]
  },
  {
   "cell_type": "code",
   "execution_count": null,
   "metadata": {},
   "outputs": [],
   "source": [
    "# seleciona o maior e o menor número da rua dentre os quatro campos de numeração (máximo e mínimo final e inicial). \n",
    "\n",
    "CEP_Log_Nums['Menor_Num_Lograd'] = CEP_Log_Nums.loc[:, ['min_NumIni', 'max_NumIni', 'min_NumFin', 'max_NumFin']].min(1)\n",
    "CEP_Log_Nums['Maior_Num_Lograd'] = CEP_Log_Nums.loc[:, ['min_NumIni', 'max_NumIni', 'min_NumFin', 'max_NumFin']].max(1)"
   ]
  },
  {
   "cell_type": "code",
   "execution_count": null,
   "metadata": {},
   "outputs": [],
   "source": [
    "# Cria novo DataFrame dispensando as quatro colunas, agora desnecessárias.\n",
    "\n",
    "CEP_Log_Nums_columnFinal = CEP_Log_Nums.drop(['min_NumIni', 'max_NumIni', 'min_NumFin', 'max_NumFin'], axis=1)"
   ]
  },
  {
   "cell_type": "code",
   "execution_count": null,
   "metadata": {},
   "outputs": [],
   "source": [
    "# valores nulos são substituidos por 0 nas duas colunas numéricas.\n",
    "\n",
    "CEP_Log_Nums_columnFinal['Menor_Num_Lograd'].fillna(0, inplace = True)\n",
    "CEP_Log_Nums_columnFinal['Maior_Num_Lograd'].fillna(0, inplace = True)"
   ]
  },
  {
   "cell_type": "code",
   "execution_count": null,
   "metadata": {},
   "outputs": [],
   "source": [
    "CEP_Log_Nums_columnFinal.info()"
   ]
  },
  {
   "cell_type": "code",
   "execution_count": null,
   "metadata": {},
   "outputs": [],
   "source": [
    "# converte números as colunas dos números de float para integer. Assim a numeração da rua fica sem vírgula, como na realidade.\n",
    "\n",
    "CEP_Log_Nums_columnFinal[['Menor_Num_Lograd', 'Maior_Num_Lograd']] = CEP_Log_Nums_columnFinal[['Menor_Num_Lograd', 'Maior_Num_Lograd']].astype(int)"
   ]
  },
  {
   "cell_type": "code",
   "execution_count": null,
   "metadata": {
    "scrolled": true
   },
   "outputs": [],
   "source": [
    "CEP_Log_Nums_columnFinal.info()"
   ]
  },
  {
   "cell_type": "code",
   "execution_count": null,
   "metadata": {
    "scrolled": true
   },
   "outputs": [],
   "source": [
    "CEP_Log_Nums_columnFinal.isnull().any()"
   ]
  },
  {
   "cell_type": "code",
   "execution_count": null,
   "metadata": {},
   "outputs": [],
   "source": [
    "CEP_Log_Nums_columnFinal"
   ]
  },
  {
   "cell_type": "code",
   "execution_count": null,
   "metadata": {
    "scrolled": false
   },
   "outputs": [],
   "source": [
    "# Exporta um csv do DataFrame final, separado por ';' e com acentuação em português.\n",
    "\n",
    "CEP_Log_Nums_columnFinal.to_csv(r'D:\\Henrique\\Postal_Address_BR.csv',\n",
    "                                encoding='iso-8859-1',sep=';')\n",
    "print('Processo Concluído')"
   ]
  }
 ],
 "metadata": {
  "kernelspec": {
   "display_name": "Python 3",
   "language": "python",
   "name": "python3"
  },
  "language_info": {
   "codemirror_mode": {
    "name": "ipython",
    "version": 3
   },
   "file_extension": ".py",
   "mimetype": "text/x-python",
   "name": "python",
   "nbconvert_exporter": "python",
   "pygments_lexer": "ipython3",
   "version": "3.6.5"
  }
 },
 "nbformat": 4,
 "nbformat_minor": 2
}
